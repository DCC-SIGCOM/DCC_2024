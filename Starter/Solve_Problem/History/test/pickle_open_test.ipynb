{
 "cells": [
  {
   "cell_type": "code",
   "execution_count": 1,
   "metadata": {},
   "outputs": [
    {
     "name": "stdout",
     "output_type": "stream",
     "text": [
      "  응답자 ID                      Training 스타일 선호  \\\n",
      "0  64747  W_29783_10_sportivecasual_W.jpg       \n",
      "1         W_46907_80_powersuit_W.jpg            \n",
      "2         W_14901_90_kitsch_W.jpg               \n",
      "3         W_31416_70_hippie_W.jpg               \n",
      "4         W_44330_10_sportivecasual_W.jpg       \n",
      "\n",
      "                      Training 스타일 비선호                    Validation 스타일 선호  \\\n",
      "0  W_36644_00_oriental_W.jpg            W_46907_80_powersuit_W.jpg            \n",
      "1  W_34024_10_sportivecasual_W.jpg      W_44330_10_sportivecasual_W.jpg       \n",
      "2  W_14102_50_feminine_W.jpg            W_39164_00_oriental_W.jpg             \n",
      "3  W_40876_70_punk_W.jpg                W_37491_70_military_W.jpg             \n",
      "4  W_40690_80_bodyconscious_W.jpg       W_20598_70_military_W.jpg             \n",
      "\n",
      "                    Validation 스타일 비선호  \n",
      "0  W_34024_10_sportivecasual_W.jpg      \n",
      "1  W_14102_50_feminine_W.jpg            \n",
      "2  W_47169_70_hippie_W.jpg              \n",
      "3  W_02498_50_feminine_W.jpg            \n",
      "4  W_11610_90_grunge_W.jpg              \n"
     ]
    }
   ],
   "source": [
    "import pandas as pd\n",
    "\n",
    "try:\n",
    "    df = pd.read_pickle('/home/gyuha_lee/DCC2024/mission2/top_100_preference.pkl')\n",
    "    print(df.head())\n",
    "except Exception as e:\n",
    "    print(f\"Error loading pickle file: {e}\")\n"
   ]
  }
 ],
 "metadata": {
  "kernelspec": {
   "display_name": "dcc2024",
   "language": "python",
   "name": "python3"
  },
  "language_info": {
   "codemirror_mode": {
    "name": "ipython",
    "version": 3
   },
   "file_extension": ".py",
   "mimetype": "text/x-python",
   "name": "python",
   "nbconvert_exporter": "python",
   "pygments_lexer": "ipython3",
   "version": "3.9.20"
  }
 },
 "nbformat": 4,
 "nbformat_minor": 2
}
