{
 "cells": [
  {
   "cell_type": "code",
   "execution_count": 7,
   "metadata": {},
   "outputs": [],
   "source": [
    "import os\n",
    "import shutil\n",
    "import pandas as pd\n",
    "from collections import defaultdict"
   ]
  },
  {
   "cell_type": "code",
   "execution_count": 8,
   "metadata": {},
   "outputs": [],
   "source": [
    "# 이미지 파일명에서 성별 및 스타일을 추출하는 함수 (뒤의 W/M으로 성별 구분)\n",
    "def extract_info_from_filename(filename):\n",
    "    # 파일명 예시: \"W_00237_60_popart_W.jpg\"\n",
    "    parts = filename.split('_')\n",
    "    if len(parts) < 4:\n",
    "        return None, None  # 형식이 맞지 않는 파일명은 무시\n",
    "    style = parts[3]  # 스타일 정보는 네 번째 요소\n",
    "    gender = '여성' if parts[-1].startswith('W') else '남성'  # 파일명의 마지막 부분이 성별을 나타냄\n",
    "    return gender, style"
   ]
  },
  {
   "cell_type": "code",
   "execution_count": 9,
   "metadata": {},
   "outputs": [],
   "source": [
    "# 디렉토리 내 파일명으로 통계 정보를 추출하는 함수\n",
    "def generate_statistics(directory):\n",
    "    # 성별 & 스타일별 이미지 수를 저장할 딕셔너리\n",
    "    stats = defaultdict(lambda: defaultdict(int))\n",
    "    \n",
    "    # 디렉토리 내 모든 파일명에 대해 성별과 스타일 정보 추출\n",
    "    for filename in os.listdir(directory):\n",
    "        if filename.endswith(\".jpg\"):\n",
    "            gender, style = extract_info_from_filename(filename)\n",
    "            if gender and style:\n",
    "                stats[gender][style] += 1\n",
    "                \n",
    "    # 통계 정보를 DataFrame으로 변환\n",
    "    stats_list = []\n",
    "    for gender, style_dict in stats.items():\n",
    "        for style, count in style_dict.items():\n",
    "            stats_list.append([gender, style, count])\n",
    "\n",
    "    stats_df = pd.DataFrame(stats_list, columns=['성별', '스타일', '이미지 수'])\n",
    "    return stats_df"
   ]
  },
  {
   "cell_type": "code",
   "execution_count": 10,
   "metadata": {},
   "outputs": [],
   "source": [
    "# Training 및 Validation 데이터 경로 (경로는 실제 데이터셋 위치로 변경해야 합니다)\n",
    "training_image_dir = '/home/gyuha_lee/DCC2024/dataset/training_image'\n",
    "validation_image_dir = '/home/gyuha_lee/DCC2024/dataset/validation_image'"
   ]
  },
  {
   "cell_type": "code",
   "execution_count": 11,
   "metadata": {},
   "outputs": [],
   "source": [
    "# Training 데이터 통계\n",
    "training_stats_df = generate_statistics(training_image_dir)\n",
    "\n",
    "# Validation 데이터 통계\n",
    "validation_stats_df = generate_statistics(validation_image_dir)"
   ]
  },
  {
   "cell_type": "code",
   "execution_count": 12,
   "metadata": {},
   "outputs": [
    {
     "name": "stdout",
     "output_type": "stream",
     "text": [
      "Training 데이터 통계\n",
      "성별   스타일                  이미지 수\n",
      "----------------------------------\n",
      "남성   metrosexual            278\n",
      "남성   ivy                    237\n",
      "남성   sportivecasual         298\n",
      "남성   mods                   269\n",
      "남성   bold                   268\n",
      "남성   hiphop                 274\n",
      "남성   normcore               364\n",
      "남성   hippie                 260\n",
      "여성   kitsch                  91\n",
      "여성   lounge                  45\n",
      "여성   disco                   37\n",
      "여성   bodyconscious           95\n",
      "여성   sportivecasual         157\n",
      "여성   hippie                  91\n",
      "여성   normcore               153\n",
      "여성   athleisure              67\n",
      "여성   hiphop                  48\n",
      "여성   lingerie                55\n",
      "여성   oriental                78\n",
      "여성   minimal                139\n",
      "여성   feminine               154\n",
      "여성   cityglam                67\n",
      "여성   classic                 77\n",
      "여성   punk                    65\n",
      "여성   genderless              77\n",
      "여성   powersuit              120\n",
      "여성   grunge                  31\n",
      "여성   ecology                 64\n",
      "여성   space                   37\n",
      "여성   military                33\n",
      "여성   popart                  41\n",
      "\n",
      "Validation 데이터 통계\n",
      "성별   스타일                  이미지 수\n",
      "----------------------------------\n",
      "남성   metrosexual             58\n",
      "남성   normcore                51\n",
      "남성   hippie                  82\n",
      "남성   bold                    57\n",
      "남성   ivy                     79\n",
      "남성   mods                    80\n",
      "남성   sportivecasual          52\n",
      "남성   hiphop                  66\n",
      "여성   minimal                 35\n",
      "여성   powersuit               34\n",
      "여성   feminine                44\n",
      "여성   genderless              12\n",
      "여성   disco                   10\n",
      "여성   hippie                  14\n",
      "여성   sportivecasual          48\n",
      "여성   athleisure              14\n",
      "여성   normcore                20\n",
      "여성   bodyconscious           23\n",
      "여성   cityglam                18\n",
      "여성   kitsch                  22\n",
      "여성   classic                 22\n",
      "여성   oriental                18\n",
      "여성   punk                    12\n",
      "여성   ecology                 17\n",
      "여성   military                 9\n",
      "여성   lounge                   8\n",
      "여성   grunge                  10\n",
      "여성   hiphop                   8\n",
      "여성   popart                   8\n",
      "여성   space                   15\n",
      "여성   lingerie                 5\n"
     ]
    }
   ],
   "source": [
    "# Training 데이터 통계표 출력\n",
    "print(\"Training 데이터 통계\")\n",
    "print(f\"{'성별':<4} {'스타일':<15} {'이미지 수':>10}\")\n",
    "print(\"-\" * 34)\n",
    "for index, row in training_stats_df.iterrows():\n",
    "    print(f\"{row['성별']:<4} {row['스타일']:<15} {row['이미지 수']:>10}\")\n",
    "\n",
    "# Validation 데이터 통계표 출력\n",
    "print(\"\\nValidation 데이터 통계\")\n",
    "print(f\"{'성별':<4} {'스타일':<15} {'이미지 수':>10}\")\n",
    "print(\"-\" * 34)\n",
    "for index, row in validation_stats_df.iterrows():\n",
    "    print(f\"{row['성별']:<4} {row['스타일']:<15} {row['이미지 수']:>10}\")"
   ]
  },
  {
   "cell_type": "code",
   "execution_count": 8,
   "metadata": {},
   "outputs": [],
   "source": [
    "# 각각의 통계 정보를 CSV 파일로 저장\n",
    "training_stats_df.to_csv(\"training_image_statistics.csv\", index=False, encoding='utf-8-sig')\n",
    "validation_stats_df.to_csv(\"validation_image_statistics.csv\", index=False, encoding='utf-8-sig')"
   ]
  },
  {
   "cell_type": "code",
   "execution_count": 10,
   "metadata": {},
   "outputs": [],
   "source": [
    "# 새 폴더 구조를 생성할 경로\n",
    "organized_training_dir = '/home/gyuha_lee/DCC2024/dataset/organized_training_image'\n",
    "organized_validation_dir = '/home/gyuha_lee/DCC2024/dataset/organized_validation_image'"
   ]
  },
  {
   "cell_type": "code",
   "execution_count": 11,
   "metadata": {},
   "outputs": [],
   "source": [
    "# 폴더 정리 함수 정의 (성별 및 스타일별 폴더 생성 후 이미지 복사)\n",
    "def organize_images_by_class_and_style(image_dir, target_dir):\n",
    "    if not os.path.exists(target_dir):\n",
    "        os.makedirs(target_dir)\n",
    "\n",
    "    # 각 이미지 파일명에서 성별 및 스타일 정보를 추출하고, 해당 폴더로 이미지를 복사\n",
    "    for filename in os.listdir(image_dir):\n",
    "        if filename.endswith(\".jpg\"):\n",
    "            # 파일명에서 성별 및 스타일 정보 추출\n",
    "            gender, style = extract_info_from_filename(filename)\n",
    "            if gender and style:\n",
    "                # 성별 폴더 경로 생성\n",
    "                gender_folder = os.path.join(target_dir, gender)\n",
    "\n",
    "                # 스타일 폴더 경로 생성\n",
    "                style_folder = os.path.join(gender_folder, style)\n",
    "\n",
    "                # 성별 및 스타일 폴더가 없으면 생성\n",
    "                if not os.path.exists(gender_folder):\n",
    "                    os.makedirs(gender_folder)\n",
    "                if not os.path.exists(style_folder):\n",
    "                    os.makedirs(style_folder)\n",
    "\n",
    "                # 이미지 파일을 스타일 폴더로 복사\n",
    "                source_path = os.path.join(image_dir, filename)\n",
    "                target_path = os.path.join(style_folder, filename)\n",
    "                shutil.copy(source_path, target_path)  # 이동 대신 복사"
   ]
  },
  {
   "cell_type": "code",
   "execution_count": 12,
   "metadata": {},
   "outputs": [],
   "source": [
    "# 이미지 파일명에서 성별 및 스타일을 추출하는 함수\n",
    "def extract_info_from_filename(filename):\n",
    "    # 파일명 예시: \"W_00237_60_popart_W.jpg\"\n",
    "    parts = filename.split('_')\n",
    "    if len(parts) < 4:\n",
    "        return None, None  # 형식이 맞지 않는 파일명은 무시\n",
    "    gender = '여성' if parts[0] == 'W' else '남성'\n",
    "    style = parts[3]\n",
    "    return gender, style"
   ]
  },
  {
   "cell_type": "code",
   "execution_count": null,
   "metadata": {},
   "outputs": [],
   "source": [
    "# Training 데이터 폴더 정리 (복사)\n",
    "organize_images_by_class_and_style(training_image_dir, organized_training_dir)\n",
    "\n",
    "# Validation 데이터 폴더 정리 (복사)\n",
    "organize_images_by_class_and_style(validation_image_dir, organized_validation_dir)\n",
    "\n",
    "print(\"이미지 폴더가 성별 및 스타일별로 정리되어 복사되었습니다.\")"
   ]
  },
  {
   "cell_type": "code",
   "execution_count": 10,
   "metadata": {},
   "outputs": [],
   "source": [
    "import torch\n",
    "from PIL import Image\n",
    "from torch.utils.data import Dataset, DataLoader\n",
    "from torchvision import transforms, models\n",
    "import torch.nn as nn\n",
    "import torch.optim as optim"
   ]
  },
  {
   "cell_type": "code",
   "execution_count": null,
   "metadata": {},
   "outputs": [],
   "source": [
    "# GPU 사용 가능 여부 확인\n",
    "device = torch.device(\"cuda:0\" if torch.cuda.is_available() else \"cpu\")\n",
    "print(f\"사용 중인 장치: {device}\")"
   ]
  },
  {
   "cell_type": "code",
   "execution_count": null,
   "metadata": {},
   "outputs": [],
   "source": [
    "# 파일명에서 성별 및 스타일 정보를 추출하는 함수 (뒤의 W/M으로 성별 구분)\n",
    "def extract_info_from_filename(filename):\n",
    "    parts = filename.split('_')\n",
    "    style = parts[3]  # 스타일 정보는 네 번째 요소\n",
    "    gender = '여성' if parts[-1].startswith('W') else '남성'  # 마지막 부분에서 성별 구분\n",
    "    return gender, style"
   ]
  },
  {
   "cell_type": "code",
   "execution_count": null,
   "metadata": {},
   "outputs": [],
   "source": [
    "# Custom Dataset 클래스 정의\n",
    "class CustomFashionDataset(Dataset):\n",
    "    def __init__(self, image_dir, transform=None):\n",
    "        self.image_dir = image_dir\n",
    "        self.transform = transform\n",
    "        self.image_files = [f for f in os.listdir(image_dir) if f.endswith(\".jpg\")]\n",
    "        self.classes = self.get_classes()  # 클래스(성별 + 스타일) 정보를 정의\n",
    "        \n",
    "    def get_classes(self):\n",
    "        # 고유한 (성별, 스타일) 조합을 찾기 위한 클래스 정의\n",
    "        classes = set()\n",
    "        for filename in self.image_files:\n",
    "            gender, style = extract_info_from_filename(filename)\n",
    "            classes.add((gender, style))\n",
    "        return sorted(list(classes))  # 클래스 목록을 정렬된 리스트로 반환\n",
    "    \n",
    "    def __len__(self):\n",
    "        return len(self.image_files)\n",
    "    \n",
    "    def __getitem__(self, idx):\n",
    "        img_name = self.image_files[idx]\n",
    "        img_path = os.path.join(self.image_dir, img_name)\n",
    "        \n",
    "        # 이미지 로드\n",
    "        image = Image.open(img_path).convert(\"RGB\")\n",
    "        if self.transform:\n",
    "            image = self.transform(image)\n",
    "        \n",
    "        # 성별 & 스타일 정보 추출 및 레이블 인코딩\n",
    "        gender, style = extract_info_from_filename(img_name)\n",
    "        label = self.classes.index((gender, style))  # 성별 & 스타일을 레이블로 변환\n",
    "        \n",
    "        return image, label\n"
   ]
  },
  {
   "cell_type": "code",
   "execution_count": null,
   "metadata": {},
   "outputs": [],
   "source": [
    "# 데이터 전처리 설정\n",
    "transform = transforms.Compose([\n",
    "    transforms.Resize((224, 224)),\n",
    "    transforms.ToTensor(),\n",
    "    transforms.Normalize([0.485, 0.456, 0.406], [0.229, 0.224, 0.225])\n",
    "])"
   ]
  },
  {
   "cell_type": "code",
   "execution_count": null,
   "metadata": {},
   "outputs": [],
   "source": [
    "# Custom Dataset 사용\n",
    "image_dir = './dataset/training_image'  # 폴더를 나누지 않은 경우\n",
    "dataset = CustomFashionDataset(image_dir, transform=transform)"
   ]
  },
  {
   "cell_type": "code",
   "execution_count": null,
   "metadata": {},
   "outputs": [],
   "source": [
    "# DataLoader 설정\n",
    "dataloader = DataLoader(dataset, batch_size=32, shuffle=True, num_workers=4)"
   ]
  },
  {
   "cell_type": "code",
   "execution_count": null,
   "metadata": {},
   "outputs": [],
   "source": [
    "# ResNet-18 모델 정의\n",
    "device = torch.device(\"cuda:0\" if torch.cuda.is_available() else \"cpu\")\n",
    "model = models.resnet18(pretrained=False)\n",
    "num_classes = len(dataset.classes)  # 클래스 수에 맞게 출력층 크기 조정\n",
    "model.fc = nn.Linear(model.fc.in_features, num_classes)\n",
    "model = model.to(device)"
   ]
  },
  {
   "cell_type": "code",
   "execution_count": null,
   "metadata": {},
   "outputs": [],
   "source": [
    "# 손실 함수 및 최적화 함수 정의\n",
    "criterion = nn.CrossEntropyLoss()\n",
    "optimizer = optim.Adam(model.parameters(), lr=0.001)"
   ]
  },
  {
   "cell_type": "code",
   "execution_count": null,
   "metadata": {},
   "outputs": [],
   "source": [
    "# 모델 학습 및 검증 함수\n",
    "def train_model(model, dataloader, criterion, optimizer, num_epochs=25):\n",
    "    model.train()  # 학습 모드\n",
    "    for epoch in range(num_epochs):\n",
    "        running_loss = 0.0\n",
    "        running_corrects = 0\n",
    "        for inputs, labels in dataloader:\n",
    "            inputs, labels = inputs.to(device), labels.to(device)\n",
    "            \n",
    "            # 옵티마이저 초기화\n",
    "            optimizer.zero_grad()\n",
    "            \n",
    "            # Forward\n",
    "            outputs = model(inputs)\n",
    "            _, preds = torch.max(outputs, 1)\n",
    "            loss = criterion(outputs, labels)\n",
    "            \n",
    "            # Backward + 최적화\n",
    "            loss.backward()\n",
    "            optimizer.step()\n",
    "            \n",
    "            # 손실 값 및 정확도 계산\n",
    "            running_loss += loss.item() * inputs.size(0)\n",
    "            running_corrects += torch.sum(preds == labels.data)\n",
    "        \n",
    "        # 에포크 당 평균 손실 및 정확도 출력\n",
    "        epoch_loss = running_loss / len(dataloader.dataset)\n",
    "        epoch_acc = running_corrects.double() / len(dataloader.dataset)\n",
    "        print(f'Epoch {epoch+1}/{num_epochs}, Loss: {epoch_loss:.4f}, Accuracy: {epoch_acc:.4f}')"
   ]
  },
  {
   "cell_type": "code",
   "execution_count": null,
   "metadata": {},
   "outputs": [],
   "source": [
    "# 모델 학습\n",
    "train_model(model, dataloader, criterion, optimizer, num_epochs=25)"
   ]
  },
  {
   "cell_type": "code",
   "execution_count": null,
   "metadata": {},
   "outputs": [],
   "source": [
    "# 학습된 모델 저장\n",
    "torch.save(model.state_dict(), 'resnet18_custom_dataset.pth')"
   ]
  }
 ],
 "metadata": {
  "kernelspec": {
   "display_name": "python311",
   "language": "python",
   "name": "python3"
  },
  "language_info": {
   "codemirror_mode": {
    "name": "ipython",
    "version": 3
   },
   "file_extension": ".py",
   "mimetype": "text/x-python",
   "name": "python",
   "nbconvert_exporter": "python",
   "pygments_lexer": "ipython3",
   "version": "3.11.10"
  }
 },
 "nbformat": 4,
 "nbformat_minor": 2
}
