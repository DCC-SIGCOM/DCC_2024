{
 "cells": [
  {
   "cell_type": "code",
   "execution_count": 1,
   "id": "f02f2221e686b9f",
   "metadata": {
    "ExecuteTime": {
     "end_time": "2024-10-10T07:01:11.645874Z",
     "start_time": "2024-10-10T07:01:11.037785Z"
    }
   },
   "outputs": [],
   "source": [
    "# 1. 데이터셋 파일명 분석 및 통계 수집\n",
    "\n",
    "import os\n",
    "import re\n",
    "import pandas as pd\n",
    "from collections import defaultdict"
   ]
  },
  {
   "cell_type": "code",
   "execution_count": 2,
   "id": "997b46b810ffdea0",
   "metadata": {
    "ExecuteTime": {
     "end_time": "2024-10-10T07:01:11.662926Z",
     "start_time": "2024-10-10T07:01:11.659815Z"
    }
   },
   "outputs": [],
   "source": [
    "# 데이터 디렉토리 경로 설정 (로컬 환경에 맞게 변경)\n",
    "base_dir = '/home/gyuha_lee/DCC2024/dataset'  # 데이터셋이 위치한 최상위 경로로 설정합니다.\n",
    "train_image_dir = os.path.join(base_dir, 'training_image')  # 학습 이미지 경로\n",
    "val_image_dir = os.path.join(base_dir, 'validation_image')  # 검증 이미지 경로"
   ]
  },
  {
   "cell_type": "code",
   "execution_count": 3,
   "id": "63ea0322ad58f693",
   "metadata": {
    "ExecuteTime": {
     "end_time": "2024-10-10T07:01:13.330548Z",
     "start_time": "2024-10-10T07:01:13.327993Z"
    }
   },
   "outputs": [],
   "source": [
    "# 파일명 패턴 설정 (예: T_00253_60_popart_W.jpg)\n",
    "file_pattern = re.compile(r'([WT])_(\\d+)_(\\d+)_(\\w+)_(\\w+)\\.jpg')"
   ]
  },
  {
   "cell_type": "code",
   "execution_count": 4,
   "id": "736bf2885c983ad8",
   "metadata": {
    "ExecuteTime": {
     "end_time": "2024-10-10T07:01:15.464474Z",
     "start_time": "2024-10-10T07:01:15.461844Z"
    }
   },
   "outputs": [],
   "source": [
    "# Training 및 Validation 데이터셋 통계 결과 저장\n",
    "statistics_train = defaultdict(lambda: defaultdict(int))\n",
    "statistics_val = defaultdict(lambda: defaultdict(int))"
   ]
  },
  {
   "cell_type": "code",
   "execution_count": 5,
   "id": "b0048e61238ab7d",
   "metadata": {
    "ExecuteTime": {
     "end_time": "2024-10-10T07:01:26.232741Z",
     "start_time": "2024-10-10T07:01:26.229248Z"
    }
   },
   "outputs": [],
   "source": [
    "# 주어진 이미지 디렉토리에서 파일명 분석 및 통계 작성 함수\n",
    "def calculate_statistics(image_directory, statistics):\n",
    "    for root, _, files in os.walk(image_directory):\n",
    "        for filename in files:\n",
    "            match = file_pattern.match(filename)\n",
    "            if match:\n",
    "                _, _, _, style, gender = match.groups()\n",
    "                # 성별 & 스타일 기준으로 이미지 수 집계\n",
    "                if gender == \"W\":\n",
    "                    gender_label = \"여자\"\n",
    "                elif gender == \"M\":\n",
    "                    gender_label = \"남자\"\n",
    "                else:\n",
    "                    continue\n",
    "                statistics[gender_label][style] += 1"
   ]
  },
  {
   "cell_type": "code",
   "execution_count": 6,
   "id": "2bdca821a42f33a0",
   "metadata": {
    "ExecuteTime": {
     "end_time": "2024-10-10T07:01:28.064571Z",
     "start_time": "2024-10-10T07:01:28.052339Z"
    }
   },
   "outputs": [],
   "source": [
    "# Training 데이터셋 통계 집계\n",
    "calculate_statistics(train_image_dir, statistics_train)\n",
    "\n",
    "# Validation 데이터셋 통계 집계\n",
    "calculate_statistics(val_image_dir, statistics_val)"
   ]
  },
  {
   "cell_type": "code",
   "execution_count": 7,
   "id": "c1d0ebfa1504c8ca",
   "metadata": {
    "ExecuteTime": {
     "end_time": "2024-10-10T07:01:31.251761Z",
     "start_time": "2024-10-10T07:01:31.248500Z"
    }
   },
   "outputs": [],
   "source": [
    "# 성별 및 스타일별 이미지 수를 DataFrame으로 변환\n",
    "train_stat_list = []\n",
    "for gender, styles in statistics_train.items():\n",
    "    for style, count in styles.items():\n",
    "        train_stat_list.append([gender, style, count])\n",
    "\n",
    "val_stat_list = []\n",
    "for gender, styles in statistics_val.items():\n",
    "    for style, count in styles.items():\n",
    "        val_stat_list.append([gender, style, count])"
   ]
  },
  {
   "cell_type": "code",
   "execution_count": 9,
   "id": "fd867dfc8cd6084e",
   "metadata": {
    "ExecuteTime": {
     "end_time": "2024-10-10T07:01:32.840352Z",
     "start_time": "2024-10-10T07:01:32.830716Z"
    }
   },
   "outputs": [
    {
     "name": "stdout",
     "output_type": "stream",
     "text": [
      "Training 데이터셋의 성별 & 스타일 통계표:\n",
      "    성별             스타일  이미지 수\n",
      "0   남자     metrosexual    278\n",
      "1   남자             ivy    237\n",
      "2   남자  sportivecasual    298\n",
      "3   남자            mods    269\n",
      "4   남자            bold    268\n",
      "5   남자          hiphop    274\n",
      "6   남자        normcore    364\n",
      "7   남자          hippie    260\n",
      "8   여자          kitsch     91\n",
      "9   여자          lounge     45\n",
      "10  여자           disco     37\n",
      "11  여자   bodyconscious     95\n",
      "12  여자  sportivecasual    157\n",
      "13  여자          hippie     91\n",
      "14  여자        normcore    153\n",
      "15  여자      athleisure     67\n",
      "16  여자          hiphop     48\n",
      "17  여자        lingerie     55\n",
      "18  여자        oriental     78\n",
      "19  여자         minimal    139\n",
      "20  여자        feminine    154\n",
      "21  여자        cityglam     67\n",
      "22  여자         classic     77\n",
      "23  여자            punk     65\n",
      "24  여자      genderless     77\n",
      "25  여자       powersuit    120\n",
      "26  여자          grunge     31\n",
      "27  여자         ecology     64\n",
      "28  여자           space     37\n",
      "29  여자        military     33\n",
      "30  여자          popart     41\n",
      "\n",
      "Validation 데이터셋의 성별 & 스타일 통계표:\n",
      "Empty DataFrame\n",
      "Columns: [성별, 스타일, 이미지 수]\n",
      "Index: []\n"
     ]
    }
   ],
   "source": [
    "# DataFrame 생성\n",
    "train_stat_df = pd.DataFrame(train_stat_list, columns=[\"성별\", \"스타일\", \"이미지 수\"])\n",
    "val_stat_df = pd.DataFrame(val_stat_list, columns=[\"성별\", \"스타일\", \"이미지 수\"])\n",
    "\n",
    "print(\"Training 데이터셋의 성별 & 스타일 통계표:\")\n",
    "print(train_stat_df, end =\"\\n\\n\")\n",
    "\n",
    "print(\"Validation 데이터셋의 성별 & 스타일 통계표:\")\n",
    "print(val_stat_df)"
   ]
  },
  {
   "cell_type": "code",
   "execution_count": 91,
   "id": "220239a740e8e268",
   "metadata": {
    "ExecuteTime": {
     "end_time": "2024-10-10T06:40:49.515426Z",
     "start_time": "2024-10-10T06:40:49.510429Z"
    }
   },
   "outputs": [],
   "source": [
    "# 결과를 CSV 파일로 저장\n",
    "train_stat_df.to_csv('train_style_statistics.csv', index=False)\n",
    "val_stat_df.to_csv('val_style_statistics.csv', index=False)"
   ]
  },
  {
   "cell_type": "code",
   "execution_count": 92,
   "id": "ba704c6cb93fd488",
   "metadata": {
    "ExecuteTime": {
     "end_time": "2024-10-10T06:40:49.527299Z",
     "start_time": "2024-10-10T06:40:49.524756Z"
    }
   },
   "outputs": [],
   "source": [
    "# 2. ResNet-18 모델 학습 및 검증\n",
    "\n",
    "import torch\n",
    "import torchvision.transforms as transforms\n",
    "from torchvision import datasets, models\n",
    "from torch.utils.data import DataLoader\n",
    "import torch.nn as nn\n",
    "import torch.optim as optim"
   ]
  },
  {
   "cell_type": "code",
   "execution_count": 93,
   "id": "57de412c990736b4",
   "metadata": {
    "ExecuteTime": {
     "end_time": "2024-10-10T06:40:49.541355Z",
     "start_time": "2024-10-10T06:40:49.537753Z"
    }
   },
   "outputs": [],
   "source": [
    "# 데이터 전처리 및 데이터 로더 설정\n",
    "transform = transforms.Compose([\n",
    "    transforms.Resize((224, 224)),\n",
    "    transforms.RandomHorizontalFlip(),\n",
    "    transforms.RandomRotation(10),\n",
    "    transforms.ToTensor(),\n",
    "    transforms.Normalize([0.485, 0.456, 0.406], [0.229, 0.224, 0.225])\n",
    "])"
   ]
  },
  {
   "cell_type": "code",
   "execution_count": null,
   "id": "1f5062fd73146844",
   "metadata": {
    "ExecuteTime": {
     "end_time": "2024-10-10T06:40:49.581375Z",
     "start_time": "2024-10-10T06:40:49.550971Z"
    }
   },
   "outputs": [],
   "source": [
    "# Training 및 Validation 데이터셋 로드\n",
    "train_dataset = datasets.ImageFolder(train_image_dir, transform=transform)\n",
    "val_dataset = datasets.ImageFolder(val_image_dir, transform=transform)\n",
    "\n",
    "train_loader = DataLoader(train_dataset, batch_size=32, shuffle=True)\n",
    "val_loader = DataLoader(val_dataset, batch_size=32, shuffle=False)"
   ]
  },
  {
   "cell_type": "code",
   "execution_count": null,
   "id": "3ca695c0ce57e43",
   "metadata": {
    "ExecuteTime": {
     "end_time": "2024-10-10T06:40:49.586383900Z",
     "start_time": "2024-10-10T06:39:21.176716Z"
    }
   },
   "outputs": [],
   "source": [
    "# ResNet-18 모델 설정 (pretrained weights 없이 무작위 초기화)\n",
    "model = models.resnet18(pretrained=False)\n",
    "num_features = model.fc.in_features\n",
    "model.fc = nn.Linear(num_features, len(train_dataset.classes))  # 출력 클래스 수 설정"
   ]
  },
  {
   "cell_type": "code",
   "execution_count": null,
   "id": "4344f7857369850f",
   "metadata": {},
   "outputs": [],
   "source": [
    "# 모델 학습 설정\n",
    "device = torch.device(\"cuda:0\" if torch.cuda.is_available() else \"cpu\")\n",
    "model = model.to(device)\n",
    "\n",
    "criterion = nn.CrossEntropyLoss()\n",
    "optimizer = optim.SGD(model.parameters(), lr=0.001, momentum=0.9)"
   ]
  },
  {
   "cell_type": "code",
   "execution_count": null,
   "id": "8c19442a071ff20a",
   "metadata": {},
   "outputs": [],
   "source": [
    "# 모델 학습\n",
    "num_epochs = 10\n",
    "for epoch in range(num_epochs):\n",
    "    model.train()\n",
    "    running_loss = 0.0\n",
    "    for inputs, labels in train_loader:\n",
    "        inputs, labels = inputs.to(device), labels.to(device)\n",
    "\n",
    "        # 옵티마이저 초기화\n",
    "        optimizer.zero_grad()\n",
    "\n",
    "        # 순전파 및 역전파, 최적화\n",
    "        outputs = model(inputs)\n",
    "        loss = criterion(outputs, labels)\n",
    "        loss.backward()\n",
    "        optimizer.step()\n",
    "\n",
    "        running_loss += loss.item()\n",
    "\n",
    "    # Validation 데이터로 성능 평가\n",
    "    model.eval()\n",
    "    correct = 0\n",
    "    total = 0\n",
    "    with torch.no_grad():\n",
    "        for inputs, labels in val_loader:\n",
    "            inputs, labels = inputs.to(device), labels.to(device)\n",
    "            outputs = model(inputs)\n",
    "            _, predicted = torch.max(outputs, 1)\n",
    "            total += labels.size(0)\n",
    "            correct += (predicted == labels).sum().item()\n",
    "\n",
    "    val_accuracy = correct / total\n",
    "    print(f'Epoch {epoch+1}/{num_epochs}, Loss: {running_loss/len(train_loader):.4f}, Validation Accuracy: {val_accuracy:.4f}')"
   ]
  },
  {
   "cell_type": "code",
   "execution_count": null,
   "id": "4814a2ce8bb60736",
   "metadata": {},
   "outputs": [],
   "source": [
    "print(\"학습 완료\")"
   ]
  }
 ],
 "metadata": {
  "kernelspec": {
   "display_name": "python311",
   "language": "python",
   "name": "python3"
  },
  "language_info": {
   "codemirror_mode": {
    "name": "ipython",
    "version": 3
   },
   "file_extension": ".py",
   "mimetype": "text/x-python",
   "name": "python",
   "nbconvert_exporter": "python",
   "pygments_lexer": "ipython3",
   "version": "3.11.10"
  }
 },
 "nbformat": 4,
 "nbformat_minor": 5
}
