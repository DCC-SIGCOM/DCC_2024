{
 "cells": [
  {
   "cell_type": "code",
   "execution_count": 1,
   "metadata": {},
   "outputs": [],
   "source": [
    "import torch\n",
    "import os\n",
    "import cv2\n",
    "import numpy as np"
   ]
  },
  {
   "cell_type": "code",
   "execution_count": null,
   "metadata": {},
   "outputs": [],
   "source": [
    "# YOLOv5 모델 로드 (사전 학습된 모델 사용)\n",
    "model = torch.hub.load('ultralytics/yolov5', 'yolov5s')  # 'yolov5s' 등 원하는 모델 선택 가능"
   ]
  },
  {
   "cell_type": "code",
   "execution_count": 3,
   "metadata": {},
   "outputs": [],
   "source": [
    "# 입력 및 출력 경로 설정\n",
    "input_dirs = [\n",
    "    '/home/gyuha_lee/DCC2024/dataset/training_image',\n",
    "]\n",
    "output_dirs = [\n",
    "    '/home/gyuha_lee/DCC2024/dataset/bg_remove/yolov5/rm_more/training_image_no_bg',\n",
    "]"
   ]
  },
  {
   "cell_type": "code",
   "execution_count": 4,
   "metadata": {},
   "outputs": [],
   "source": [
    "# 출력 디렉토리 생성\n",
    "for output_dir in output_dirs:\n",
    "    if not os.path.exists(output_dir):\n",
    "        os.makedirs(output_dir)"
   ]
  },
  {
   "cell_type": "code",
   "execution_count": null,
   "metadata": {},
   "outputs": [],
   "source": [
    "# 모든 이미지에 대해 YOLO 모델 적용 및 마스킹\n",
    "for input_dir, output_dir in zip(input_dirs, output_dirs):\n",
    "    for img_file in os.listdir(input_dir):\n",
    "        if img_file.endswith('.jpg'):\n",
    "            input_path = os.path.join(input_dir, img_file)\n",
    "            output_path = os.path.join(output_dir, img_file)\n",
    "\n",
    "            # 이미지 불러오기\n",
    "            image = cv2.imread(input_path)\n",
    "\n",
    "            # 모델 추론\n",
    "            results = model(input_path)\n",
    "\n",
    "            # 탐지 결과에서 마스크 생성\n",
    "            detected = results.pandas().xyxy[0]\n",
    "            mask = np.zeros(image.shape[:2], dtype=np.uint8)  # 빈 마스크 생성\n",
    "\n",
    "            for index, row in detected.iterrows():\n",
    "                # 옷과 관련된 객체만 필터링 (필요에 따라 추가)\n",
    "                if row['name'] in ['person', 'shirt', 'pants', 'dress']:\n",
    "                    x_min, y_min, x_max, y_max = int(row['xmin']), int(row['ymin']), int(row['xmax']), int(row['ymax'])\n",
    "                    # 탐지된 객체 영역에 대해 마스크 설정\n",
    "                    mask[y_min:y_max, x_min:x_max] = 255\n",
    "\n",
    "            # 원본 이미지에 마스크 적용\n",
    "            masked_image = cv2.bitwise_and(image, image, mask=mask)\n",
    "\n",
    "            # 알파 채널 추가 (배경을 투명하게 처리)\n",
    "            b, g, r = cv2.split(masked_image)\n",
    "            alpha = mask  # 마스크를 알파 채널로 사용\n",
    "            masked_image_rgba = cv2.merge([b, g, r, alpha])\n",
    "\n",
    "            # 결과 저장\n",
    "            output_path = output_path.replace('.jpg', '.png')  # 알파 채널을 포함하므로 .png로 저장\n",
    "            cv2.imwrite(output_path, masked_image_rgba)\n"
   ]
  },
  {
   "cell_type": "code",
   "execution_count": null,
   "metadata": {},
   "outputs": [],
   "source": [
    "print(\"모든 이미지에 대해 배경 마스킹 작업이 완료되었습니다.\")"
   ]
  }
 ],
 "metadata": {
  "kernelspec": {
   "display_name": "dcc2024",
   "language": "python",
   "name": "python3"
  },
  "language_info": {
   "codemirror_mode": {
    "name": "ipython",
    "version": 3
   },
   "file_extension": ".py",
   "mimetype": "text/x-python",
   "name": "python",
   "nbconvert_exporter": "python",
   "pygments_lexer": "ipython3",
   "version": "3.9.20"
  }
 },
 "nbformat": 4,
 "nbformat_minor": 2
}
