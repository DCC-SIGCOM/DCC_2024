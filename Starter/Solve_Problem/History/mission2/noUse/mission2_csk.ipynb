{
 "cells": [
  {
   "cell_type": "code",
   "execution_count": 3,
   "metadata": {},
   "outputs": [],
   "source": [
    "import os\n",
    "import pandas as pd\n",
    "from collections import defaultdict\n"
   ]
  },
  {
   "cell_type": "code",
   "execution_count": 4,
   "metadata": {},
   "outputs": [],
   "source": [
    "\n",
    "# 성별, 스타일별 이미지를 카운트할 딕셔너리 (Training & Validation 각각)\n",
    "image_count = {\n",
    "    'training': defaultdict(lambda: defaultdict(int)),\n",
    "    'validation': defaultdict(lambda: defaultdict(int))\n",
    "}\n"
   ]
  },
  {
   "cell_type": "code",
   "execution_count": 5,
   "metadata": {},
   "outputs": [],
   "source": [
    "\n",
    "# 데이터 파일 경로 (Training & Validation)\n",
    "data_paths = [\n",
    "    (\"/home/gyuha_lee/DCC2024/dataset/training_label\", 'training'),    # Training 이미지 경로\n",
    "    (\"/home/gyuha_lee/DCC2024/dataset/validation_label\", 'validation') # Validation 이미지 경로\n",
    "]\n"
   ]
  },
  {
   "cell_type": "code",
   "execution_count": 6,
   "metadata": {},
   "outputs": [],
   "source": [
    "\n",
    "# 각 경로의 파일들을 순회하며 데이터 파싱\n",
    "for path, dataset_type in data_paths:\n",
    "    for filename in os.listdir(path):\n",
    "        # 파일 이름 예: W_96626_60_minimal_W_008455.json\n",
    "        parts = os.path.splitext(filename)[0].split('_')\n",
    "        \n",
    "        # 성별: 첫 번째 요소 (W or M)\n",
    "        gender = '여성' if parts[0] == 'W' else '남성'\n",
    "        \n",
    "        # 스타일: 네 번째 요소\n",
    "        style = parts[3]\n",
    "        \n",
    "        # 성별 & 스타일 조합의 이미지 수 증가\n",
    "        image_count[dataset_type][gender][style] += 1\n"
   ]
  },
  {
   "cell_type": "code",
   "execution_count": 7,
   "metadata": {},
   "outputs": [],
   "source": [
    "\n",
    "# Training과 Validation 데이터 각각에 대해 통계 데이터를 pandas 데이터프레임으로 변환\n",
    "def create_dataframe(image_count, dataset_type):\n",
    "    gender_list = []\n",
    "    style_list = []\n",
    "    image_count_list = []\n",
    "\n",
    "    for gender in image_count[dataset_type]:\n",
    "        for style, count in image_count[dataset_type][gender].items():\n",
    "            gender_list.append(gender)\n",
    "            style_list.append(style)\n",
    "            image_count_list.append(count)\n",
    "\n",
    "    # DataFrame 생성\n",
    "    df = pd.DataFrame({\n",
    "        '성별': gender_list,\n",
    "        '스타일': style_list,\n",
    "        '이미지 수': image_count_list\n",
    "    })\n",
    "    return df\n"
   ]
  },
  {
   "cell_type": "code",
   "execution_count": 8,
   "metadata": {},
   "outputs": [
    {
     "name": "stdout",
     "output_type": "stream",
     "text": [
      "Training 데이터 통계:\n",
      "    성별             스타일  이미지 수\n",
      "0   여성        normcore  16411\n",
      "1   여성        oriental   4573\n",
      "2   여성  sportivecasual  15918\n",
      "3   여성         minimal   9652\n",
      "4   여성             ivy   8778\n",
      "5   여성     metrosexual   8020\n",
      "6   여성         classic   5604\n",
      "7   여성       powersuit  12510\n",
      "8   여성            bold   9109\n",
      "9   여성          kitsch   5607\n",
      "10  여성      genderless   3024\n",
      "11  여성        cityglam   5199\n",
      "12  여성           space   2978\n",
      "13  여성            punk   5454\n",
      "14  여성          hippie  13692\n",
      "15  여성            mods   8017\n",
      "16  여성        feminine  11400\n",
      "17  여성         ecology   3464\n",
      "18  여성      athleisure   2583\n",
      "19  여성          lounge   3310\n",
      "20  여성   bodyconscious   4125\n",
      "21  여성          grunge   1805\n",
      "22  여성          popart   3041\n",
      "23  여성          hiphop   9006\n",
      "24  여성        military   2093\n",
      "25  여성           disco   3115\n",
      "26  여성        lingerie   2750\n",
      "27  남성  sportivecasual   7177\n",
      "28  남성        normcore   6526\n",
      "29  남성          hippie   1387\n",
      "30  남성         ecology    470\n",
      "31  남성          lounge    900\n",
      "32  남성            bold    848\n",
      "33  남성          kitsch    739\n",
      "34  남성        lingerie    231\n",
      "35  남성            punk    398\n",
      "36  남성          hiphop   2523\n",
      "37  남성         classic    954\n",
      "38  남성     metrosexual    982\n",
      "39  남성       powersuit    548\n",
      "40  남성        cityglam    690\n",
      "41  남성            mods    931\n",
      "42  남성          grunge    223\n",
      "43  남성         minimal   1328\n",
      "44  남성        oriental    648\n",
      "45  남성          popart    257\n",
      "46  남성             ivy    596\n",
      "47  남성   bodyconscious    325\n",
      "48  남성      genderless    479\n",
      "49  남성           disco    376\n",
      "50  남성      athleisure    300\n",
      "51  남성           space     97\n",
      "52  남성        feminine     55\n",
      "53  남성        military    120\n"
     ]
    }
   ],
   "source": [
    "\n",
    "# Training 데이터 통계 출력\n",
    "print(\"Training 데이터 통계:\")\n",
    "training_df = create_dataframe(image_count, 'training')\n",
    "print(training_df)\n"
   ]
  },
  {
   "cell_type": "code",
   "execution_count": 9,
   "metadata": {},
   "outputs": [
    {
     "name": "stdout",
     "output_type": "stream",
     "text": [
      "\n",
      "Validation 데이터 통계:\n",
      "    성별             스타일  이미지 수\n",
      "0   여성  sportivecasual   3064\n",
      "1   여성         classic   1086\n",
      "2   여성             ivy   1976\n",
      "3   여성        normcore   2383\n",
      "4   여성        cityglam    875\n",
      "5   여성   bodyconscious    748\n",
      "6   여성           space    593\n",
      "7   여성     metrosexual   1297\n",
      "8   여성          hiphop   1651\n",
      "9   여성        feminine   2083\n",
      "10  여성        oriental    788\n",
      "11  여성          kitsch    851\n",
      "12  여성            mods   1590\n",
      "13  여성            punk    738\n",
      "14  여성         minimal   1598\n",
      "15  여성          popart    558\n",
      "16  여성          hippie   2751\n",
      "17  여성            bold   1454\n",
      "18  여성       powersuit   2269\n",
      "19  여성        military    318\n",
      "20  여성        lingerie    404\n",
      "21  여성           disco    538\n",
      "22  여성          lounge    440\n",
      "23  여성          grunge    334\n",
      "24  여성      athleisure    480\n",
      "25  여성         ecology    623\n",
      "26  여성      genderless    453\n",
      "27  남성  sportivecasual   1087\n",
      "28  남성          kitsch     91\n",
      "29  남성          hiphop    333\n",
      "30  남성         minimal    201\n",
      "31  남성            bold    155\n",
      "32  남성        normcore    811\n",
      "33  남성     metrosexual    142\n",
      "34  남성         classic    181\n",
      "35  남성          lounge     90\n",
      "36  남성        lingerie     35\n",
      "37  남성            mods    180\n",
      "38  남성        oriental     94\n",
      "39  남성      genderless     62\n",
      "40  남성          hippie    219\n",
      "41  남성      athleisure     41\n",
      "42  남성             ivy    153\n",
      "43  남성        cityglam    109\n",
      "44  남성         ecology     77\n",
      "45  남성            punk     62\n",
      "46  남성          popart     59\n",
      "47  남성       powersuit     65\n",
      "48  남성   bodyconscious     54\n",
      "49  남성           disco     55\n",
      "50  남성        feminine      8\n",
      "51  남성        military     14\n",
      "52  남성           space     21\n",
      "53  남성          grunge     41\n"
     ]
    }
   ],
   "source": [
    "\n",
    "# Validation 데이터 통계 출력\n",
    "print(\"\\nValidation 데이터 통계:\")\n",
    "validation_df = create_dataframe(image_count, 'validation')\n",
    "print(validation_df)\n"
   ]
  },
  {
   "cell_type": "code",
   "execution_count": 10,
   "metadata": {},
   "outputs": [],
   "source": [
    "\n",
    "# 선택적으로 CSV 파일로 저장 (원하는 경우)\n",
    "training_df.to_csv('training_fashion_image_statistics.csv', index=False)\n",
    "validation_df.to_csv('validation_fashion_image_statistics.csv', index=False)"
   ]
  }
 ],
 "metadata": {
  "kernelspec": {
   "display_name": "python311",
   "language": "python",
   "name": "python3"
  },
  "language_info": {
   "codemirror_mode": {
    "name": "ipython",
    "version": 3
   },
   "file_extension": ".py",
   "mimetype": "text/x-python",
   "name": "python",
   "nbconvert_exporter": "python",
   "pygments_lexer": "ipython3",
   "version": "3.11.10"
  }
 },
 "nbformat": 4,
 "nbformat_minor": 2
}
